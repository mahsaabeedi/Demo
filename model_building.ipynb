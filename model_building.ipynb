{
 "cells": [
  {
   "cell_type": "code",
   "execution_count": 1,
   "metadata": {},
   "outputs": [],
   "source": [
    "import numpy as np\n",
    "import pandas as pd\n",
    "import matplotlib.pyplot as plt\n",
    "import warnings\n",
    "import pickle"
   ]
  },
  {
   "cell_type": "code",
   "execution_count": 2,
   "metadata": {},
   "outputs": [
    {
     "name": "stdout",
     "output_type": "stream",
     "text": [
      "<class 'pandas.core.frame.DataFrame'>\n",
      "RangeIndex: 1027 entries, 0 to 1026\n",
      "Data columns (total 14 columns):\n",
      " #   Column             Non-Null Count  Dtype   \n",
      "---  ------             --------------  -----   \n",
      " 0   average salary     1027 non-null   int64   \n",
      " 1   job title          1027 non-null   category\n",
      " 2   seniority          1027 non-null   category\n",
      " 3   location           1027 non-null   category\n",
      " 4   company name       1027 non-null   category\n",
      " 5   size               1027 non-null   category\n",
      " 6   type of ownership  1027 non-null   category\n",
      " 7   python             1027 non-null   category\n",
      " 8   rstudio            1027 non-null   category\n",
      " 9   sql                1027 non-null   category\n",
      " 10  aws                1027 non-null   category\n",
      " 11  pytorch            1027 non-null   category\n",
      " 12  sas                1027 non-null   category\n",
      " 13  excel              1027 non-null   category\n",
      "dtypes: category(13), int64(1)\n",
      "memory usage: 40.6 KB\n"
     ]
    }
   ],
   "source": [
    "#load data and correct dtypes\n",
    "df_full = pd.read_csv('C:/Users/yiyan/Documents/ds_gd_project/clean_data_for_modeling.csv')\n",
    "\n",
    "for col in ['python', 'rstudio', 'sql', 'aws','pytorch', 'sas', 'excel']:\n",
    "    df_full[col] = df_full[col].apply(lambda x: 'yes' if x ==1 else 'no')\n",
    "\n",
    "df_full = df_full.astype('category')\n",
    "df_full[['average salary']] = df_full[['average salary']].astype('int64')\n",
    "df_full.info()"
   ]
  },
  {
   "cell_type": "code",
   "execution_count": 3,
   "metadata": {
    "scrolled": true
   },
   "outputs": [
    {
     "data": {
      "text/html": [
       "<div>\n",
       "<style scoped>\n",
       "    .dataframe tbody tr th:only-of-type {\n",
       "        vertical-align: middle;\n",
       "    }\n",
       "\n",
       "    .dataframe tbody tr th {\n",
       "        vertical-align: top;\n",
       "    }\n",
       "\n",
       "    .dataframe thead th {\n",
       "        text-align: right;\n",
       "    }\n",
       "</style>\n",
       "<table border=\"1\" class=\"dataframe\">\n",
       "  <thead>\n",
       "    <tr style=\"text-align: right;\">\n",
       "      <th></th>\n",
       "      <th>average salary</th>\n",
       "      <th>job title</th>\n",
       "      <th>seniority</th>\n",
       "      <th>location</th>\n",
       "      <th>company name</th>\n",
       "      <th>size</th>\n",
       "      <th>type of ownership</th>\n",
       "      <th>python</th>\n",
       "      <th>rstudio</th>\n",
       "      <th>sql</th>\n",
       "      <th>aws</th>\n",
       "      <th>pytorch</th>\n",
       "      <th>sas</th>\n",
       "      <th>excel</th>\n",
       "    </tr>\n",
       "  </thead>\n",
       "  <tbody>\n",
       "    <tr>\n",
       "      <th>0</th>\n",
       "      <td>94500</td>\n",
       "      <td>data analyst</td>\n",
       "      <td>unspecified</td>\n",
       "      <td>Waterloo</td>\n",
       "      <td>Ontario Teachers Insurance Plan</td>\n",
       "      <td>501 to 1000 employees</td>\n",
       "      <td>Non-profit Organisation</td>\n",
       "      <td>no</td>\n",
       "      <td>no</td>\n",
       "      <td>yes</td>\n",
       "      <td>no</td>\n",
       "      <td>no</td>\n",
       "      <td>no</td>\n",
       "      <td>yes</td>\n",
       "    </tr>\n",
       "    <tr>\n",
       "      <th>1</th>\n",
       "      <td>94500</td>\n",
       "      <td>data scientist</td>\n",
       "      <td>unspecified</td>\n",
       "      <td>Toronto</td>\n",
       "      <td>AIR MILES</td>\n",
       "      <td>501 to 1000 employees</td>\n",
       "      <td>Company - Private</td>\n",
       "      <td>yes</td>\n",
       "      <td>no</td>\n",
       "      <td>yes</td>\n",
       "      <td>yes</td>\n",
       "      <td>no</td>\n",
       "      <td>no</td>\n",
       "      <td>no</td>\n",
       "    </tr>\n",
       "    <tr>\n",
       "      <th>2</th>\n",
       "      <td>94500</td>\n",
       "      <td>data scientist</td>\n",
       "      <td>unspecified</td>\n",
       "      <td>Toronto</td>\n",
       "      <td>Rubikloud Technologies</td>\n",
       "      <td>51 to 200 employees</td>\n",
       "      <td>Company - Private</td>\n",
       "      <td>yes</td>\n",
       "      <td>no</td>\n",
       "      <td>yes</td>\n",
       "      <td>yes</td>\n",
       "      <td>no</td>\n",
       "      <td>no</td>\n",
       "      <td>no</td>\n",
       "    </tr>\n",
       "    <tr>\n",
       "      <th>3</th>\n",
       "      <td>94500</td>\n",
       "      <td>data scientist</td>\n",
       "      <td>unspecified</td>\n",
       "      <td>Toronto</td>\n",
       "      <td>Nielsen</td>\n",
       "      <td>10000+ employees</td>\n",
       "      <td>Company - Public</td>\n",
       "      <td>yes</td>\n",
       "      <td>no</td>\n",
       "      <td>yes</td>\n",
       "      <td>yes</td>\n",
       "      <td>no</td>\n",
       "      <td>no</td>\n",
       "      <td>yes</td>\n",
       "    </tr>\n",
       "    <tr>\n",
       "      <th>4</th>\n",
       "      <td>94500</td>\n",
       "      <td>data analyst</td>\n",
       "      <td>unspecified</td>\n",
       "      <td>Edmonton</td>\n",
       "      <td>ATB Financial</td>\n",
       "      <td>5001 to 10000 employees</td>\n",
       "      <td>Company - Private</td>\n",
       "      <td>yes</td>\n",
       "      <td>no</td>\n",
       "      <td>yes</td>\n",
       "      <td>yes</td>\n",
       "      <td>no</td>\n",
       "      <td>yes</td>\n",
       "      <td>yes</td>\n",
       "    </tr>\n",
       "  </tbody>\n",
       "</table>\n",
       "</div>"
      ],
      "text/plain": [
       "   average salary       job title    seniority  location  \\\n",
       "0           94500    data analyst  unspecified  Waterloo   \n",
       "1           94500  data scientist  unspecified   Toronto   \n",
       "2           94500  data scientist  unspecified   Toronto   \n",
       "3           94500  data scientist  unspecified   Toronto   \n",
       "4           94500    data analyst  unspecified  Edmonton   \n",
       "\n",
       "                      company name                     size  \\\n",
       "0  Ontario Teachers Insurance Plan    501 to 1000 employees   \n",
       "1                        AIR MILES    501 to 1000 employees   \n",
       "2           Rubikloud Technologies      51 to 200 employees   \n",
       "3                          Nielsen         10000+ employees   \n",
       "4                    ATB Financial  5001 to 10000 employees   \n",
       "\n",
       "         type of ownership python rstudio  sql  aws pytorch  sas excel  \n",
       "0  Non-profit Organisation     no      no  yes   no      no   no   yes  \n",
       "1        Company - Private    yes      no  yes  yes      no   no    no  \n",
       "2        Company - Private    yes      no  yes  yes      no   no    no  \n",
       "3         Company - Public    yes      no  yes  yes      no   no   yes  \n",
       "4        Company - Private    yes      no  yes  yes      no  yes   yes  "
      ]
     },
     "execution_count": 3,
     "metadata": {},
     "output_type": "execute_result"
    }
   ],
   "source": [
    "df_full.head(5)"
   ]
  },
  {
   "cell_type": "code",
   "execution_count": 4,
   "metadata": {},
   "outputs": [],
   "source": [
    "# choose a subset of predictor variables\n",
    "df = df_full[['average salary', 'job title',  'location', 'size', 'type of ownership', 'python', 'rstudio', 'sql', 'aws','pytorch', 'sas', 'excel']]"
   ]
  },
  {
   "cell_type": "markdown",
   "metadata": {},
   "source": [
    "### Multivariate Linear model"
   ]
  },
  {
   "cell_type": "code",
   "execution_count": 5,
   "metadata": {},
   "outputs": [],
   "source": [
    "# create dummy variables with baseline dropped for linear models\n",
    "dum_drop = pd.get_dummies(df, drop_first = True)\n"
   ]
  },
  {
   "cell_type": "code",
   "execution_count": 6,
   "metadata": {},
   "outputs": [],
   "source": [
    "#split data to train test sets \n",
    "from sklearn.model_selection import train_test_split\n",
    "\n",
    "X = dum_drop.drop('average salary', axis =1)\n",
    "y = dum_drop['average salary'].values\n",
    "\n",
    "X_train, X_test, y_train, y_test = train_test_split(X, y, test_size=0.2, random_state=1215)"
   ]
  },
  {
   "cell_type": "code",
   "execution_count": 7,
   "metadata": {},
   "outputs": [
    {
     "data": {
      "text/html": [
       "<div>\n",
       "<style scoped>\n",
       "    .dataframe tbody tr th:only-of-type {\n",
       "        vertical-align: middle;\n",
       "    }\n",
       "\n",
       "    .dataframe tbody tr th {\n",
       "        vertical-align: top;\n",
       "    }\n",
       "\n",
       "    .dataframe thead th {\n",
       "        text-align: right;\n",
       "    }\n",
       "</style>\n",
       "<table border=\"1\" class=\"dataframe\">\n",
       "  <thead>\n",
       "    <tr style=\"text-align: right;\">\n",
       "      <th></th>\n",
       "      <th>job title_business intelligent analyst</th>\n",
       "      <th>job title_data analyst</th>\n",
       "      <th>job title_data engineer</th>\n",
       "      <th>job title_data scientist</th>\n",
       "      <th>job title_machine learning engineer</th>\n",
       "      <th>job title_manager analytics</th>\n",
       "      <th>job title_research scientist</th>\n",
       "      <th>job title_statistician</th>\n",
       "      <th>location_Anjou</th>\n",
       "      <th>location_Boucherville</th>\n",
       "      <th>...</th>\n",
       "      <th>type of ownership_Self-employed</th>\n",
       "      <th>type of ownership_Subsidiary or Business Segment</th>\n",
       "      <th>type of ownership_Unknown</th>\n",
       "      <th>python_yes</th>\n",
       "      <th>rstudio_yes</th>\n",
       "      <th>sql_yes</th>\n",
       "      <th>aws_yes</th>\n",
       "      <th>pytorch_yes</th>\n",
       "      <th>sas_yes</th>\n",
       "      <th>excel_yes</th>\n",
       "    </tr>\n",
       "  </thead>\n",
       "  <tbody>\n",
       "    <tr>\n",
       "      <th>542</th>\n",
       "      <td>0</td>\n",
       "      <td>1</td>\n",
       "      <td>0</td>\n",
       "      <td>0</td>\n",
       "      <td>0</td>\n",
       "      <td>0</td>\n",
       "      <td>0</td>\n",
       "      <td>0</td>\n",
       "      <td>0</td>\n",
       "      <td>0</td>\n",
       "      <td>...</td>\n",
       "      <td>0</td>\n",
       "      <td>0</td>\n",
       "      <td>0</td>\n",
       "      <td>1</td>\n",
       "      <td>0</td>\n",
       "      <td>1</td>\n",
       "      <td>1</td>\n",
       "      <td>0</td>\n",
       "      <td>0</td>\n",
       "      <td>0</td>\n",
       "    </tr>\n",
       "    <tr>\n",
       "      <th>564</th>\n",
       "      <td>0</td>\n",
       "      <td>1</td>\n",
       "      <td>0</td>\n",
       "      <td>0</td>\n",
       "      <td>0</td>\n",
       "      <td>0</td>\n",
       "      <td>0</td>\n",
       "      <td>0</td>\n",
       "      <td>0</td>\n",
       "      <td>0</td>\n",
       "      <td>...</td>\n",
       "      <td>0</td>\n",
       "      <td>0</td>\n",
       "      <td>0</td>\n",
       "      <td>1</td>\n",
       "      <td>0</td>\n",
       "      <td>1</td>\n",
       "      <td>1</td>\n",
       "      <td>0</td>\n",
       "      <td>0</td>\n",
       "      <td>1</td>\n",
       "    </tr>\n",
       "  </tbody>\n",
       "</table>\n",
       "<p>2 rows × 99 columns</p>\n",
       "</div>"
      ],
      "text/plain": [
       "     job title_business intelligent analyst  job title_data analyst  \\\n",
       "542                                       0                       1   \n",
       "564                                       0                       1   \n",
       "\n",
       "     job title_data engineer  job title_data scientist  \\\n",
       "542                        0                         0   \n",
       "564                        0                         0   \n",
       "\n",
       "     job title_machine learning engineer  job title_manager analytics  \\\n",
       "542                                    0                            0   \n",
       "564                                    0                            0   \n",
       "\n",
       "     job title_research scientist  job title_statistician  location_Anjou  \\\n",
       "542                             0                       0               0   \n",
       "564                             0                       0               0   \n",
       "\n",
       "     location_Boucherville  ...  type of ownership_Self-employed  \\\n",
       "542                      0  ...                                0   \n",
       "564                      0  ...                                0   \n",
       "\n",
       "     type of ownership_Subsidiary or Business Segment  \\\n",
       "542                                                 0   \n",
       "564                                                 0   \n",
       "\n",
       "     type of ownership_Unknown  python_yes  rstudio_yes  sql_yes  aws_yes  \\\n",
       "542                          0           1            0        1        1   \n",
       "564                          0           1            0        1        1   \n",
       "\n",
       "     pytorch_yes  sas_yes  excel_yes  \n",
       "542            0        0          0  \n",
       "564            0        0          1  \n",
       "\n",
       "[2 rows x 99 columns]"
      ]
     },
     "execution_count": 7,
     "metadata": {},
     "output_type": "execute_result"
    }
   ],
   "source": [
    "X_train.head(2)"
   ]
  },
  {
   "cell_type": "code",
   "execution_count": 9,
   "metadata": {},
   "outputs": [
    {
     "data": {
      "text/plain": [
       "-544677116368008.4"
      ]
     },
     "execution_count": 9,
     "metadata": {},
     "output_type": "execute_result"
    }
   ],
   "source": [
    "from sklearn.linear_model import LinearRegression, Lasso\n",
    "from sklearn.model_selection import cross_val_score\n",
    "\n",
    "lm = LinearRegression()\n",
    "lm.fit(X_train, y_train)\n",
    "np.mean(cross_val_score(lm,X_train,y_train, scoring = 'neg_mean_absolute_error', cv= 10))"
   ]
  },
  {
   "cell_type": "code",
   "execution_count": 23,
   "metadata": {},
   "outputs": [
    {
     "data": {
      "text/plain": [
       "{'copy_X': True, 'fit_intercept': True, 'n_jobs': None, 'normalize': False}"
      ]
     },
     "execution_count": 23,
     "metadata": {},
     "output_type": "execute_result"
    }
   ],
   "source": [
    "lm.get_params()"
   ]
  },
  {
   "cell_type": "code",
   "execution_count": 36,
   "metadata": {},
   "outputs": [
    {
     "data": {
      "text/plain": [
       "GridSearchCV(cv=10, error_score=nan,\n",
       "             estimator=Lasso(alpha=1.0, copy_X=True, fit_intercept=True,\n",
       "                             max_iter=1000, normalize=False, positive=False,\n",
       "                             precompute=False, random_state=None,\n",
       "                             selection='cyclic', tol=0.0001, warm_start=False),\n",
       "             iid='deprecated', n_jobs=None,\n",
       "             param_grid={'alpha': array([100, 105, 110, 115, 120, 125, 130, 135, 140, 145, 150, 155, 160,\n",
       "       165, 170, 175, 180, 185, 190, 195, 200, 205, 210, 215, 220, 225,\n",
       "       230, 235, 240, 245, 250, 255, 260, 265, 270, 275, 280, 285, 290,\n",
       "       295])},\n",
       "             pre_dispatch='2*n_jobs', refit=True, return_train_score=False,\n",
       "             scoring='neg_mean_absolute_error', verbose=0)"
      ]
     },
     "execution_count": 36,
     "metadata": {},
     "output_type": "execute_result"
    }
   ],
   "source": [
    "from sklearn.model_selection import GridSearchCV\n",
    "lm_lasso = Lasso(normalize = False)\n",
    "alpha = {'alpha' : np.arange(100, 300, 5)}\n",
    "gs_lasso = GridSearchCV(lm_lasso,alpha,scoring='neg_mean_absolute_error',cv= 10)\n",
    "gs_lasso.fit(X_train,y_train)"
   ]
  },
  {
   "cell_type": "code",
   "execution_count": 37,
   "metadata": {},
   "outputs": [
    {
     "name": "stdout",
     "output_type": "stream",
     "text": [
      "-16784.909518590495\n"
     ]
    },
    {
     "data": {
      "text/plain": [
       "Lasso(alpha=225, copy_X=True, fit_intercept=True, max_iter=1000,\n",
       "      normalize=False, positive=False, precompute=False, random_state=None,\n",
       "      selection='cyclic', tol=0.0001, warm_start=False)"
      ]
     },
     "execution_count": 37,
     "metadata": {},
     "output_type": "execute_result"
    }
   ],
   "source": [
    "print(gs_lasso.best_score_)\n",
    "gs_lasso.best_estimator_"
   ]
  },
  {
   "cell_type": "markdown",
   "metadata": {},
   "source": [
    "### Random Forest"
   ]
  },
  {
   "cell_type": "code",
   "execution_count": 16,
   "metadata": {},
   "outputs": [],
   "source": [
    "dum = pd.get_dummies(df, drop_first = False)\n",
    "X2 = dum.drop('average salary', axis =1)\n",
    "y2 = dum['average salary'].values\n",
    "\n",
    "X_train2, X_test2, y_train2, y_test2 = train_test_split(X2, y2, test_size=0.2, random_state=1215)"
   ]
  },
  {
   "cell_type": "code",
   "execution_count": 56,
   "metadata": {},
   "outputs": [
    {
     "data": {
      "text/html": [
       "<div>\n",
       "<style scoped>\n",
       "    .dataframe tbody tr th:only-of-type {\n",
       "        vertical-align: middle;\n",
       "    }\n",
       "\n",
       "    .dataframe tbody tr th {\n",
       "        vertical-align: top;\n",
       "    }\n",
       "\n",
       "    .dataframe thead th {\n",
       "        text-align: right;\n",
       "    }\n",
       "</style>\n",
       "<table border=\"1\" class=\"dataframe\">\n",
       "  <thead>\n",
       "    <tr style=\"text-align: right;\">\n",
       "      <th></th>\n",
       "      <th>job title_actuarial analyst</th>\n",
       "      <th>job title_business intelligent analyst</th>\n",
       "      <th>job title_data analyst</th>\n",
       "      <th>job title_data engineer</th>\n",
       "      <th>job title_data scientist</th>\n",
       "      <th>job title_machine learning engineer</th>\n",
       "      <th>job title_manager analytics</th>\n",
       "      <th>job title_research scientist</th>\n",
       "      <th>job title_statistician</th>\n",
       "      <th>location_114 Mile House</th>\n",
       "      <th>...</th>\n",
       "      <th>sql_no</th>\n",
       "      <th>sql_yes</th>\n",
       "      <th>aws_no</th>\n",
       "      <th>aws_yes</th>\n",
       "      <th>pytorch_no</th>\n",
       "      <th>pytorch_yes</th>\n",
       "      <th>sas_no</th>\n",
       "      <th>sas_yes</th>\n",
       "      <th>excel_no</th>\n",
       "      <th>excel_yes</th>\n",
       "    </tr>\n",
       "  </thead>\n",
       "  <tbody>\n",
       "    <tr>\n",
       "      <th>542</th>\n",
       "      <td>0</td>\n",
       "      <td>0</td>\n",
       "      <td>1</td>\n",
       "      <td>0</td>\n",
       "      <td>0</td>\n",
       "      <td>0</td>\n",
       "      <td>0</td>\n",
       "      <td>0</td>\n",
       "      <td>0</td>\n",
       "      <td>0</td>\n",
       "      <td>...</td>\n",
       "      <td>0</td>\n",
       "      <td>1</td>\n",
       "      <td>0</td>\n",
       "      <td>1</td>\n",
       "      <td>1</td>\n",
       "      <td>0</td>\n",
       "      <td>1</td>\n",
       "      <td>0</td>\n",
       "      <td>1</td>\n",
       "      <td>0</td>\n",
       "    </tr>\n",
       "    <tr>\n",
       "      <th>564</th>\n",
       "      <td>0</td>\n",
       "      <td>0</td>\n",
       "      <td>1</td>\n",
       "      <td>0</td>\n",
       "      <td>0</td>\n",
       "      <td>0</td>\n",
       "      <td>0</td>\n",
       "      <td>0</td>\n",
       "      <td>0</td>\n",
       "      <td>0</td>\n",
       "      <td>...</td>\n",
       "      <td>0</td>\n",
       "      <td>1</td>\n",
       "      <td>0</td>\n",
       "      <td>1</td>\n",
       "      <td>1</td>\n",
       "      <td>0</td>\n",
       "      <td>1</td>\n",
       "      <td>0</td>\n",
       "      <td>0</td>\n",
       "      <td>1</td>\n",
       "    </tr>\n",
       "  </tbody>\n",
       "</table>\n",
       "<p>2 rows × 110 columns</p>\n",
       "</div>"
      ],
      "text/plain": [
       "     job title_actuarial analyst  job title_business intelligent analyst  \\\n",
       "542                            0                                       0   \n",
       "564                            0                                       0   \n",
       "\n",
       "     job title_data analyst  job title_data engineer  \\\n",
       "542                       1                        0   \n",
       "564                       1                        0   \n",
       "\n",
       "     job title_data scientist  job title_machine learning engineer  \\\n",
       "542                         0                                    0   \n",
       "564                         0                                    0   \n",
       "\n",
       "     job title_manager analytics  job title_research scientist  \\\n",
       "542                            0                             0   \n",
       "564                            0                             0   \n",
       "\n",
       "     job title_statistician  location_114 Mile House  ...  sql_no  sql_yes  \\\n",
       "542                       0                        0  ...       0        1   \n",
       "564                       0                        0  ...       0        1   \n",
       "\n",
       "     aws_no  aws_yes  pytorch_no  pytorch_yes  sas_no  sas_yes  excel_no  \\\n",
       "542       0        1           1            0       1        0         1   \n",
       "564       0        1           1            0       1        0         0   \n",
       "\n",
       "     excel_yes  \n",
       "542          0  \n",
       "564          1  \n",
       "\n",
       "[2 rows x 110 columns]"
      ]
     },
     "execution_count": 56,
     "metadata": {},
     "output_type": "execute_result"
    }
   ],
   "source": [
    "X_train2.head(2)"
   ]
  },
  {
   "cell_type": "code",
   "execution_count": 17,
   "metadata": {},
   "outputs": [
    {
     "data": {
      "text/plain": [
       "GridSearchCV(cv=10, error_score=nan,\n",
       "             estimator=RandomForestRegressor(bootstrap=True, ccp_alpha=0.0,\n",
       "                                             criterion='mse', max_depth=None,\n",
       "                                             max_features='auto',\n",
       "                                             max_leaf_nodes=None,\n",
       "                                             max_samples=None,\n",
       "                                             min_impurity_decrease=0.0,\n",
       "                                             min_impurity_split=None,\n",
       "                                             min_samples_leaf=1,\n",
       "                                             min_samples_split=2,\n",
       "                                             min_weight_fraction_leaf=0.0,\n",
       "                                             n_estimators=200, n_jobs=None,\n",
       "                                             oob_score=False, random_state=4612,\n",
       "                                             verbose=0, warm_start=False),\n",
       "             iid='deprecated', n_jobs=None,\n",
       "             param_grid={'criterion': ('mae', 'mse'),\n",
       "                         'max_features': ('auto', 'sqrt')},\n",
       "             pre_dispatch='2*n_jobs', refit=True, return_train_score=False,\n",
       "             scoring='neg_mean_absolute_error', verbose=0)"
      ]
     },
     "execution_count": 17,
     "metadata": {},
     "output_type": "execute_result"
    }
   ],
   "source": [
    "from sklearn.ensemble import RandomForestRegressor\n",
    "from sklearn.model_selection import GridSearchCV\n",
    "\n",
    "rf = RandomForestRegressor(n_estimators = 200,random_state = 4612) \n",
    "parameters = {'criterion':('mae','mse'), 'max_features':('auto','sqrt')}\n",
    "gs = GridSearchCV(rf,parameters,scoring='neg_mean_absolute_error',cv= 10)\n",
    "gs.fit(X_train2,y_train2)"
   ]
  },
  {
   "cell_type": "code",
   "execution_count": 18,
   "metadata": {},
   "outputs": [
    {
     "name": "stdout",
     "output_type": "stream",
     "text": [
      "-17745.368241257715\n"
     ]
    },
    {
     "data": {
      "text/plain": [
       "RandomForestRegressor(bootstrap=True, ccp_alpha=0.0, criterion='mae',\n",
       "                      max_depth=None, max_features='sqrt', max_leaf_nodes=None,\n",
       "                      max_samples=None, min_impurity_decrease=0.0,\n",
       "                      min_impurity_split=None, min_samples_leaf=1,\n",
       "                      min_samples_split=2, min_weight_fraction_leaf=0.0,\n",
       "                      n_estimators=200, n_jobs=None, oob_score=False,\n",
       "                      random_state=4612, verbose=0, warm_start=False)"
      ]
     },
     "execution_count": 18,
     "metadata": {},
     "output_type": "execute_result"
    }
   ],
   "source": [
    "print(gs.best_score_)\n",
    "gs.best_estimator_"
   ]
  },
  {
   "cell_type": "code",
   "execution_count": null,
   "metadata": {},
   "outputs": [],
   "source": [
    "### SVM"
   ]
  },
  {
   "cell_type": "code",
   "execution_count": 20,
   "metadata": {},
   "outputs": [
    {
     "data": {
      "text/plain": [
       "GridSearchCV(cv=10, error_score=nan,\n",
       "             estimator=SVR(C=1.0, cache_size=200, coef0=0.0, degree=3,\n",
       "                           epsilon=0.1, gamma='scale', kernel='rbf',\n",
       "                           max_iter=-1, shrinking=True, tol=0.001,\n",
       "                           verbose=False),\n",
       "             iid='deprecated', n_jobs=None,\n",
       "             param_grid=[{'C': [1, 10, 100, 1000], 'kernel': ['linear']},\n",
       "                         {'C': [1, 10, 100, 1000], 'gamma': [0.001, 0.0001],\n",
       "                          'kernel': ['rbf']}],\n",
       "             pre_dispatch='2*n_jobs', refit=True, return_train_score=False,\n",
       "             scoring='neg_mean_absolute_error', verbose=0)"
      ]
     },
     "execution_count": 20,
     "metadata": {},
     "output_type": "execute_result"
    }
   ],
   "source": [
    "from sklearn.model_selection import GridSearchCV\n",
    "from sklearn import svm\n",
    "svr =  svm.SVR()\n",
    "\n",
    "param_grid = [\n",
    "  {'C': [1, 10, 100, 1000], 'kernel': ['linear']},\n",
    "  {'C': [1, 10, 100, 1000], 'gamma': [0.001, 0.0001], 'kernel': ['rbf']},\n",
    " ]\n",
    "gs_svr = GridSearchCV(svr, param_grid, scoring= 'neg_mean_absolute_error',cv= 10, refit=True)\n",
    "gs_svr.fit(X_train2, y_train2)"
   ]
  },
  {
   "cell_type": "code",
   "execution_count": 21,
   "metadata": {},
   "outputs": [
    {
     "name": "stdout",
     "output_type": "stream",
     "text": [
      "-16288.96012737924\n"
     ]
    },
    {
     "data": {
      "text/plain": [
       "SVR(C=1000, cache_size=200, coef0=0.0, degree=3, epsilon=0.1, gamma='scale',\n",
       "    kernel='linear', max_iter=-1, shrinking=True, tol=0.001, verbose=False)"
      ]
     },
     "execution_count": 21,
     "metadata": {},
     "output_type": "execute_result"
    }
   ],
   "source": [
    "print(gs_svr.best_score_)\n",
    "gs_svr.best_estimator_"
   ]
  },
  {
   "cell_type": "code",
   "execution_count": null,
   "metadata": {},
   "outputs": [],
   "source": [
    "## Test models on testset"
   ]
  },
  {
   "cell_type": "code",
   "execution_count": 38,
   "metadata": {},
   "outputs": [],
   "source": [
    "# predict on testset\n",
    "\n",
    "\n",
    "y_tpred_lasso = gs_lasso.best_estimator_.predict(X_test)\n",
    "y_tpred_rf = gs.best_estimator_.predict(X_test2)\n",
    "y_tpred_svr = gs_svr.best_estimator_.predict(X_test2)"
   ]
  },
  {
   "cell_type": "code",
   "execution_count": 39,
   "metadata": {},
   "outputs": [
    {
     "name": "stdout",
     "output_type": "stream",
     "text": [
      "test error(MAE) for Lasso model is 16445\n",
      "test error(MAE) for Random Forest model is  18267\n",
      "test error(MAE) for Support Vector Regressor model is 16729\n"
     ]
    }
   ],
   "source": [
    "from sklearn.metrics import mean_absolute_error\n",
    "\n",
    "print('test error(MAE) for Lasso model is %d'%(mean_absolute_error(y_test, y_tpred_lasso)))\n",
    "print('test error(MAE) for Random Forest model is % d'%(mean_absolute_error(y_test2, y_tpred_rf)))\n",
    "print('test error(MAE) for Support Vector Regressor model is %d'%(mean_absolute_error(y_test2, y_tpred_svr)))"
   ]
  },
  {
   "cell_type": "code",
   "execution_count": 40,
   "metadata": {},
   "outputs": [
    {
     "data": {
      "text/plain": [
       "Text(0.5, 0.98, 'pred vs true')"
      ]
     },
     "execution_count": 40,
     "metadata": {},
     "output_type": "execute_result"
    },
    {
     "data": {
      "image/png": "[encoded data removed]",
      "text/plain": [
       "<Figure size 1512x504 with 3 Axes>"
      ]
     },
     "metadata": {
      "needs_background": "light"
     },
     "output_type": "display_data"
    }
   ],
   "source": [
    "\n",
    "fig, axs = plt.subplots(1, 3,figsize=(21, 7),sharey= True,sharex = True)\n",
    "axs[0].scatter(y_tpred_lasso, y_test, s=80, marker=\">\" )\n",
    "axs[0].set_title('Lasso')\n",
    "axs[0].set_xlim(40000, 130000)\n",
    "axs[0].set_ylim(40000, 130000)\n",
    "axs[0].set_aspect('equal', adjustable='box')\n",
    "axs[0].plot([40000, 130000], [40000, 130000], 'k-')\n",
    "axs[1].scatter(y_tpred_rf, y_test2,s=80, marker=(5, 1))\n",
    "axs[1].set_aspect('equal', adjustable='box')\n",
    "axs[1].plot([40000, 130000], [40000, 130000], 'k-')\n",
    "axs[1].set_title('Ramdom Forest')\n",
    "axs[2].scatter(y_tpred_svr, y_test2,s=80, marker=(5, 2))\n",
    "axs[2].set_aspect('equal', adjustable='box')\n",
    "axs[2].plot([40000, 130000], [40000, 130000], 'k-')\n",
    "axs[2].set_title('SVM')\n",
    "axs[0].set_ylabel('actual')\n",
    "axs[0].set_xlabel('pred');axs[1].set_xlabel('pred');axs[2].set_xlabel('pred');\n",
    "fig.suptitle('pred vs true')\n"
   ]
  },
  {
   "cell_type": "code",
   "execution_count": 41,
   "metadata": {},
   "outputs": [
    {
     "data": {
      "text/plain": [
       "<matplotlib.axes._subplots.AxesSubplot at 0x1a45e7e16c8>"
      ]
     },
     "execution_count": 41,
     "metadata": {},
     "output_type": "execute_result"
    },
    {
     "data": {
      "image/png": "[encoded data removed]",
      "text/plain": [
       "<Figure size 432x288 with 1 Axes>"
      ]
     },
     "metadata": {
      "needs_background": "light"
     },
     "output_type": "display_data"
    }
   ],
   "source": [
    "#looking for reasons why models ony predict sal bw 50-90 well\n",
    "df_full['average salary'].hist()"
   ]
  },
  {
   "cell_type": "code",
   "execution_count": 62,
   "metadata": {},
   "outputs": [
    {
     "data": {
      "text/plain": [
       "[79544.72609333399]"
      ]
     },
     "execution_count": 62,
     "metadata": {},
     "output_type": "execute_result"
    }
   ],
   "source": [
    "#predict on a new example with svm model\n",
    "example = [\n",
    "    {'job title':'data scientist', 'location':'Toronto', 'size':'10000+ employees', 'type of ownership':'Company-Private','python':'yes', 'rstudio':'no', 'sql' : 'yes', 'aws':'yes', 'pytorch':'no', 'sas':'no', 'excel':'yes'}\n",
    "\n",
    "]\n",
    "example = pd.DataFrame(example)\n",
    "example = pd.get_dummies(example)\n",
    "example= example.reindex(columns = X_train2.columns,fill_value = 0)\n",
    "\n",
    "list(gs_svr.best_estimator_.predict(example))\n"
   ]
  },
  {
   "cell_type": "code",
   "execution_count": null,
   "metadata": {},
   "outputs": [],
   "source": [
    "### Save rf and svm models for deployment"
   ]
  },
  {
   "cell_type": "code",
   "execution_count": 52,
   "metadata": {},
   "outputs": [
    {
     "name": "stdout",
     "output_type": "stream",
     "text": [
      "dumped\n",
      "dumped\n"
     ]
    }
   ],
   "source": [
    "# Save the models\n",
    "from sklearn.externals import joblib\n",
    "joblib.dump(gs.best_estimator_, 'rf_model.pkl')\n",
    "print('dumped')\n",
    "joblib.dump(gs_svr.best_estimator_, 'svr_model.pkl')\n",
    "print('dumped')"
   ]
  },
  {
   "cell_type": "code",
   "execution_count": 63,
   "metadata": {},
   "outputs": [
    {
     "name": "stdout",
     "output_type": "stream",
     "text": [
      "dumped\n",
      "dumped\n"
     ]
    }
   ],
   "source": [
    "# Save the models\n",
    "import joblib\n",
    "joblib.dump(gs.best_estimator_, 'rf_model.pkl')\n",
    "print('dumped')\n",
    "joblib.dump(gs_svr.best_estimator_, 'svr_model.pkl')\n",
    "print('dumped')"
   ]
  },
  {
   "cell_type": "code",
   "execution_count": 53,
   "metadata": {},
   "outputs": [
    {
     "name": "stdout",
     "output_type": "stream",
     "text": [
      "[79311.25]\n",
      "[79544.72609333]\n"
     ]
    }
   ],
   "source": [
    "# Load the models that were just saved and test them. They worked.\n",
    "rf_mod = joblib.load('rf_model.pkl')\n",
    "svr_mod = joblib.load('svr_model.pkl')\n",
    "\n",
    "print(rf_mod.predict(example))\n",
    "print(svr_mod.predict(example))"
   ]
  },
  {
   "cell_type": "code",
   "execution_count": 60,
   "metadata": {},
   "outputs": [
    {
     "data": {
      "text/plain": [
       "Index(['job title_actuarial analyst', 'job title_business intelligent analyst',\n",
       "       'job title_data analyst', 'job title_data engineer',\n",
       "       'job title_data scientist', 'job title_machine learning engineer',\n",
       "       'job title_manager analytics', 'job title_research scientist',\n",
       "       'job title_statistician', 'location_114 Mile House',\n",
       "       ...\n",
       "       'sql_no', 'sql_yes', 'aws_no', 'aws_yes', 'pytorch_no', 'pytorch_yes',\n",
       "       'sas_no', 'sas_yes', 'excel_no', 'excel_yes'],\n",
       "      dtype='object', length=110)"
      ]
     },
     "execution_count": 60,
     "metadata": {},
     "output_type": "execute_result"
    }
   ],
   "source": [
    "X_train2.columns"
   ]
  },
  {
   "cell_type": "code",
   "execution_count": 64,
   "metadata": {},
   "outputs": [
    {
     "name": "stdout",
     "output_type": "stream",
     "text": [
      "Models columns dumped!\n"
     ]
    }
   ],
   "source": [
    "# Save the dummy columns of X_train \n",
    "model_columns = list(X_train2.columns)\n",
    "joblib.dump(model_columns, 'model_columns.pkl')\n",
    "print(\"Models columns dumped!\")"
   ]
  }
 ],
 "metadata": {
  "kernelspec": {
   "display_name": "Python 3",
   "language": "python",
   "name": "python3"
  },
  "language_info": {
   "codemirror_mode": {
    "name": "ipython",
    "version": 3
   },
   "file_extension": ".py",
   "mimetype": "text/x-python",
   "name": "python",
   "nbconvert_exporter": "python",
   "pygments_lexer": "ipython3",
   "version": "3.7.6"
  }
 },
 "nbformat": 4,
 "nbformat_minor": 4
}
